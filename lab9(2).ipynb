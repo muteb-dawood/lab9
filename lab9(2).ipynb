{
 "cells": [
  {
   "cell_type": "code",
   "execution_count": 3,
   "metadata": {},
   "outputs": [],
   "source": [
    "import pandas as pd\n",
    "from sklearn.preprocessing import LabelEncoder\n",
    "from sklearn.model_selection import train_test_split\n",
    "from sklearn.naive_bayes import GaussianNB, BernoulliNB\n",
    "from sklearn.metrics import accuracy_score\n",
    "seed = 10"
   ]
  },
  {
   "cell_type": "code",
   "execution_count": 5,
   "metadata": {},
   "outputs": [
    {
     "data": {
      "text/html": [
       "<div>\n",
       "<style scoped>\n",
       "    .dataframe tbody tr th:only-of-type {\n",
       "        vertical-align: middle;\n",
       "    }\n",
       "\n",
       "    .dataframe tbody tr th {\n",
       "        vertical-align: top;\n",
       "    }\n",
       "\n",
       "    .dataframe thead th {\n",
       "        text-align: right;\n",
       "    }\n",
       "</style>\n",
       "<table border=\"1\" class=\"dataframe\">\n",
       "  <thead>\n",
       "    <tr style=\"text-align: right;\">\n",
       "      <th></th>\n",
       "      <th>Outlook</th>\n",
       "      <th>Temp</th>\n",
       "      <th>Humidity</th>\n",
       "      <th>Windy</th>\n",
       "      <th>Play Golf</th>\n",
       "    </tr>\n",
       "  </thead>\n",
       "  <tbody>\n",
       "    <tr>\n",
       "      <th>0</th>\n",
       "      <td>5.1</td>\n",
       "      <td>3.5</td>\n",
       "      <td>1.4</td>\n",
       "      <td>0.2</td>\n",
       "      <td>0</td>\n",
       "    </tr>\n",
       "    <tr>\n",
       "      <th>1</th>\n",
       "      <td>4.9</td>\n",
       "      <td>3.0</td>\n",
       "      <td>1.4</td>\n",
       "      <td>0.2</td>\n",
       "      <td>0</td>\n",
       "    </tr>\n",
       "    <tr>\n",
       "      <th>2</th>\n",
       "      <td>4.7</td>\n",
       "      <td>3.2</td>\n",
       "      <td>1.3</td>\n",
       "      <td>0.2</td>\n",
       "      <td>0</td>\n",
       "    </tr>\n",
       "    <tr>\n",
       "      <th>3</th>\n",
       "      <td>4.6</td>\n",
       "      <td>3.1</td>\n",
       "      <td>1.5</td>\n",
       "      <td>0.2</td>\n",
       "      <td>0</td>\n",
       "    </tr>\n",
       "    <tr>\n",
       "      <th>4</th>\n",
       "      <td>5.0</td>\n",
       "      <td>3.6</td>\n",
       "      <td>1.4</td>\n",
       "      <td>0.2</td>\n",
       "      <td>0</td>\n",
       "    </tr>\n",
       "  </tbody>\n",
       "</table>\n",
       "</div>"
      ],
      "text/plain": [
       "   Outlook  Temp  Humidity  Windy  Play Golf\n",
       "0      5.1   3.5       1.4    0.2          0\n",
       "1      4.9   3.0       1.4    0.2          0\n",
       "2      4.7   3.2       1.3    0.2          0\n",
       "3      4.6   3.1       1.5    0.2          0\n",
       "4      5.0   3.6       1.4    0.2          0"
      ]
     },
     "execution_count": 5,
     "metadata": {},
     "output_type": "execute_result"
    }
   ],
   "source": [
    "data=pd.read_csv(r'C:/Users/motee/anaconda3/lib/site-packages/sklearn/datasets/data/iris.csv', \n",
    "                            delimiter=\",\",\n",
    "                            header=0 ,\n",
    "                            names=['Outlook','Temp',\n",
    "                                 'Humidity','Windy','Play Golf'])\n",
    "data.head()"
   ]
  },
  {
   "cell_type": "code",
   "execution_count": 6,
   "metadata": {},
   "outputs": [
    {
     "name": "stdout",
     "output_type": "stream",
     "text": [
      "[0 0 0 0 0 0 0 0 0 0 0 0 0 0 0 0 0 0 0 0 0 0 0 0 0 0 0 0 0 0 0 0 0 0 0 0 0\n",
      " 0 0 0 0 0 0 0 0 0 0 0 0 0 1 1 1 1 1 1 1 1 1 1 1 1 1 1 1 1 1 1 1 1 1 1 1 1\n",
      " 1 1 1 1 1 1 1 1 1 1 1 1 1 1 1 1 1 1 1 1 1 1 1 1 1 1 2 2 2 2 2 2 2 2 2 2 2\n",
      " 2 2 2 2 2 2 2 2 2 2 2 2 2 2 2 2 2 2 2 2 2 2 2 2 2 2 2 2 2 2 2 2 2 2 2 2 2\n",
      " 2 2]\n"
     ]
    }
   ],
   "source": [
    "le = LabelEncoder()\n",
    "y=le.fit_transform(data['Play Golf'].values)\n",
    "print(y)"
   ]
  },
  {
   "cell_type": "code",
   "execution_count": 7,
   "metadata": {},
   "outputs": [
    {
     "name": "stdout",
     "output_type": "stream",
     "text": [
      "[ 8  6  4  3  7 11  3  7  1  6 11  5  5  0 15 14 11  8 14  8 11  8  3  8\n",
      "  5  7  7  9  9  4  5 11  9 12  6  7 12  6  1  8  7  2  1  7  8  5  8  3\n",
      " 10  7 27 21 26 12 22 14 20  6 23  9  7 16 17 18 13 24 13 15 19 13 16 18\n",
      " 20 18 21 23 25 24 17 14 12 12 15 17 11 17 24 20 13 12 12 18 15  7 13 14\n",
      " 14 19  8 14 20 15 28 20 22 32  6 30 24 29 22 21 25 14 15 21 22 33 33 17\n",
      " 26 13 33 20 24 29 19 18 21 29 31 34 21 20 18 33 20 21 17 26 24 26 15 25\n",
      " 24 24 20 22 19 16]\n"
     ]
    }
   ],
   "source": [
    "#le = LabelEncoder()\n",
    "#le.fit(data['Play Golf'].values)\n",
    "#Outlook=le.fit_transform(data['Outlook'])\n",
    "#emp=le.fit_transform(data['Temp'])\n",
    "#Humidity=le.fit_transform(data['Humidity'])\n",
    "#Windy=le.fit_transform(data['Windy'])\n",
    "#y = le.transform(data['Play Golf'].values)\n",
    "#Extracting the instance data.\n",
    "#x = data.drop('Play Golf', axis=1).values\n",
    "#x = le.fit_transform(data[x,s,a,z])\n",
    "#Splitting into train and test sets\n",
    "#x_train, x_test, y_train, y_test = train_test_split(x,y, test_size=0.34, stratify=y, random_state=seed)\n",
    "le = LabelEncoder()\n",
    "Outlook=le.fit_transform(data['Outlook'].values)\n",
    "print(Outlook)"
   ]
  },
  {
   "cell_type": "code",
   "execution_count": 155,
   "metadata": {},
   "outputs": [
    {
     "data": {
      "text/plain": [
       "(14, 5)"
      ]
     },
     "execution_count": 155,
     "metadata": {},
     "output_type": "execute_result"
    }
   ],
   "source": [
    "data.shape"
   ]
  },
  {
   "cell_type": "code",
   "execution_count": 8,
   "metadata": {},
   "outputs": [
    {
     "name": "stdout",
     "output_type": "stream",
     "text": [
      "<class 'pandas.core.frame.DataFrame'>\n",
      "RangeIndex: 150 entries, 0 to 149\n",
      "Data columns (total 5 columns):\n",
      " #   Column     Non-Null Count  Dtype  \n",
      "---  ------     --------------  -----  \n",
      " 0   Outlook    150 non-null    float64\n",
      " 1   Temp       150 non-null    float64\n",
      " 2   Humidity   150 non-null    float64\n",
      " 3   Windy      150 non-null    float64\n",
      " 4   Play Golf  150 non-null    int64  \n",
      "dtypes: float64(4), int64(1)\n",
      "memory usage: 6.0 KB\n"
     ]
    }
   ],
   "source": [
    "data.info()"
   ]
  },
  {
   "cell_type": "code",
   "execution_count": 9,
   "metadata": {},
   "outputs": [
    {
     "ename": "NameError",
     "evalue": "name 'x_train' is not defined",
     "output_type": "error",
     "traceback": [
      "\u001b[1;31m---------------------------------------------------------------------------\u001b[0m",
      "\u001b[1;31mNameError\u001b[0m                                 Traceback (most recent call last)",
      "\u001b[1;32m<ipython-input-9-2132a220a582>\u001b[0m in \u001b[0;36m<module>\u001b[1;34m\u001b[0m\n\u001b[1;32m----> 1\u001b[1;33m \u001b[0mx_train\u001b[0m\u001b[1;33m.\u001b[0m\u001b[0mshape\u001b[0m\u001b[1;33m\u001b[0m\u001b[1;33m\u001b[0m\u001b[0m\n\u001b[0m",
      "\u001b[1;31mNameError\u001b[0m: name 'x_train' is not defined"
     ]
    }
   ],
   "source": [
    "x_train.shape"
   ]
  },
  {
   "cell_type": "code",
   "execution_count": 10,
   "metadata": {},
   "outputs": [],
   "source": [
    "model = BernoulliNB()"
   ]
  },
  {
   "cell_type": "code",
   "execution_count": 11,
   "metadata": {},
   "outputs": [
    {
     "name": "stdout",
     "output_type": "stream",
     "text": [
      "[14  9 11 10 15 18 13 13  8 10 16 13  9  9 19 22 18 14 17 17 13 16 15 12\n",
      " 13  9 13 14 13 11 10 13 20 21 10 11 14 15  9 13 14  2 11 14 17  9 17 11\n",
      " 16 12 11 11 10  2  7  7 12  3  8  6  0  9  1  8  8 10  9  6  1  4 11  7\n",
      "  4  7  8  9  7  9  8  5  3  3  6  6  9 13 10  2  9  4  5  9  5  2  6  9\n",
      "  8  8  4  7 12  6  9  8  9  9  4  8  4 15 11  6  9  4  7 11  9 17  5  1\n",
      " 11  7  7  6 12 11  7  9  7  9  7 17  7  7  5  9 13 10  9 10 10 10  6 11\n",
      " 12  9  4  9 13  9]\n"
     ]
    }
   ],
   "source": [
    "le = LabelEncoder()\n",
    "Temp=le.fit_transform(data['Temp'].values)\n",
    "print(Temp)"
   ]
  },
  {
   "cell_type": "code",
   "execution_count": 12,
   "metadata": {},
   "outputs": [
    {
     "name": "stdout",
     "output_type": "stream",
     "text": [
      "[ 4  4  3  5  4  7  4  5  4  5  5  6  4  1  2  5  3  4  7  5  7  5  0  7\n",
      "  8  6  6  5  4  6  6  5  5  4  5  2  3  4  3  5  3  3  3  6  8  4  6  4\n",
      "  5  4 23 21 25 16 22 21 23 10 22 15 11 18 16 23 12 20 21 17 21 15 24 16\n",
      " 25 23 19 20 24 26 21 11 14 13 15 27 21 21 23 20 17 16 20 22 16 10 18 18\n",
      " 18 19  9 17 36 27 35 32 34 40 21 38 34 37 27 29 31 26 27 29 31 41 42 26\n",
      " 33 25 41 25 33 36 24 25 32 34 37 39 32 27 32 37 32 31 24 30 32 27 27 35\n",
      " 33 28 26 28 30 27]\n"
     ]
    }
   ],
   "source": [
    "le = LabelEncoder()\n",
    "Humidity=le.fit_transform(data['Humidity'].values)\n",
    "print(Humidity)"
   ]
  },
  {
   "cell_type": "code",
   "execution_count": 13,
   "metadata": {},
   "outputs": [
    {
     "name": "stdout",
     "output_type": "stream",
     "text": [
      "[ 1  1  1  1  1  3  2  1  1  0  1  1  0  0  1  3  3  2  2  2  1  3  1  4\n",
      "  1  1  3  1  1  1  1  3  0  1  1  1  1  0  1  1  2  2  1  5  3  2  1  1\n",
      "  1  1 10 11 11  9 11  9 12  6  9 10  6 11  6 10  9 10 11  6 11  7 14  9\n",
      " 11  8  9 10 10 13 11  6  7  6  8 12 11 12 11  9  9  9  8 10  8  6  9  8\n",
      "  9  9  7  9 21 15 17 14 18 17 13 14 14 21 16 15 17 16 20 19 14 18 19 11\n",
      " 19 16 16 14 17 14 14 14 17 12 15 16 18 11 10 19 20 14 14 17 20 19 15 19\n",
      " 21 19 15 16 19 14]\n"
     ]
    }
   ],
   "source": [
    "le = LabelEncoder()\n",
    "Windy=le.fit_transform(data['Windy'].values)\n",
    "print(Windy)"
   ]
  },
  {
   "cell_type": "code",
   "execution_count": 14,
   "metadata": {},
   "outputs": [
    {
     "name": "stdout",
     "output_type": "stream",
     "text": [
      "[(8, 14, 4, 1), (6, 9, 4, 1), (4, 11, 3, 1), (3, 10, 5, 1), (7, 15, 4, 1), (11, 18, 7, 3), (3, 13, 4, 2), (7, 13, 5, 1), (1, 8, 4, 1), (6, 10, 5, 0), (11, 16, 5, 1), (5, 13, 6, 1), (5, 9, 4, 0), (0, 9, 1, 0), (15, 19, 2, 1), (14, 22, 5, 3), (11, 18, 3, 3), (8, 14, 4, 2), (14, 17, 7, 2), (8, 17, 5, 2), (11, 13, 7, 1), (8, 16, 5, 3), (3, 15, 0, 1), (8, 12, 7, 4), (5, 13, 8, 1), (7, 9, 6, 1), (7, 13, 6, 3), (9, 14, 5, 1), (9, 13, 4, 1), (4, 11, 6, 1), (5, 10, 6, 1), (11, 13, 5, 3), (9, 20, 5, 0), (12, 21, 4, 1), (6, 10, 5, 1), (7, 11, 2, 1), (12, 14, 3, 1), (6, 15, 4, 0), (1, 9, 3, 1), (8, 13, 5, 1), (7, 14, 3, 2), (2, 2, 3, 2), (1, 11, 3, 1), (7, 14, 6, 5), (8, 17, 8, 3), (5, 9, 4, 2), (8, 17, 6, 1), (3, 11, 4, 1), (10, 16, 5, 1), (7, 12, 4, 1), (27, 11, 23, 10), (21, 11, 21, 11), (26, 10, 25, 11), (12, 2, 16, 9), (22, 7, 22, 11), (14, 7, 21, 9), (20, 12, 23, 12), (6, 3, 10, 6), (23, 8, 22, 9), (9, 6, 15, 10), (7, 0, 11, 6), (16, 9, 18, 11), (17, 1, 16, 6), (18, 8, 23, 10), (13, 8, 12, 9), (24, 10, 20, 10), (13, 9, 21, 11), (15, 6, 17, 6), (19, 1, 21, 11), (13, 4, 15, 7), (16, 11, 24, 14), (18, 7, 16, 9), (20, 4, 25, 11), (18, 7, 23, 8), (21, 8, 19, 9), (23, 9, 20, 10), (25, 7, 24, 10), (24, 9, 26, 13), (17, 8, 21, 11), (14, 5, 11, 6), (12, 3, 14, 7), (12, 3, 13, 6), (15, 6, 15, 8), (17, 6, 27, 12), (11, 9, 21, 11), (17, 13, 21, 12), (24, 10, 23, 11), (20, 2, 20, 9), (13, 9, 17, 9), (12, 4, 16, 9), (12, 5, 20, 8), (18, 9, 22, 10), (15, 5, 16, 8), (7, 2, 10, 6), (13, 6, 18, 9), (14, 9, 18, 8), (14, 8, 18, 9), (19, 8, 19, 9), (8, 4, 9, 7), (14, 7, 17, 9), (20, 12, 36, 21), (15, 6, 27, 15), (28, 9, 35, 17), (20, 8, 32, 14), (22, 9, 34, 18), (32, 9, 40, 17), (6, 4, 21, 13), (30, 8, 38, 14), (24, 4, 34, 14), (29, 15, 37, 21), (22, 11, 27, 16), (21, 6, 29, 15), (25, 9, 31, 17), (14, 4, 26, 16), (15, 7, 27, 20), (21, 11, 29, 19), (22, 9, 31, 14), (33, 17, 41, 18), (33, 5, 42, 19), (17, 1, 26, 11), (26, 11, 33, 19), (13, 7, 25, 16), (33, 7, 41, 16), (20, 6, 25, 14), (24, 12, 33, 17), (29, 11, 36, 14), (19, 7, 24, 14), (18, 9, 25, 14), (21, 7, 32, 17), (29, 9, 34, 12), (31, 7, 37, 15), (34, 17, 39, 16), (21, 7, 32, 18), (20, 7, 27, 11), (18, 5, 32, 10), (33, 9, 37, 19), (20, 13, 32, 20), (21, 10, 31, 14), (17, 9, 24, 14), (26, 10, 30, 17), (24, 10, 32, 20), (26, 10, 27, 19), (15, 6, 27, 15), (25, 11, 35, 19), (24, 12, 33, 21), (24, 9, 28, 19), (20, 4, 26, 15), (22, 9, 28, 16), (19, 13, 30, 19), (16, 9, 27, 14)]\n"
     ]
    }
   ],
   "source": [
    "features=zip(Outlook,Temp,Humidity,Windy)\n",
    "features_ls=list(features)\n",
    "print(features_ls)"
   ]
  },
  {
   "cell_type": "code",
   "execution_count": 15,
   "metadata": {},
   "outputs": [
    {
     "data": {
      "text/plain": [
       "BernoulliNB()"
      ]
     },
     "execution_count": 15,
     "metadata": {},
     "output_type": "execute_result"
    }
   ],
   "source": [
    "model.fit(features_ls ,y)"
   ]
  },
  {
   "cell_type": "code",
   "execution_count": 16,
   "metadata": {},
   "outputs": [
    {
     "name": "stdout",
     "output_type": "stream",
     "text": [
      "predicted value: [0]\n"
     ]
    }
   ],
   "source": [
    "predicted = model.predict([[1, 1, 0, 0]])\n",
    "print (\"predicted value:\" , predicted )"
   ]
  },
  {
   "cell_type": "code",
   "execution_count": null,
   "metadata": {},
   "outputs": [],
   "source": []
  }
 ],
 "metadata": {
  "kernelspec": {
   "display_name": "Python 3",
   "language": "python",
   "name": "python3"
  },
  "language_info": {
   "codemirror_mode": {
    "name": "ipython",
    "version": 3
   },
   "file_extension": ".py",
   "mimetype": "text/x-python",
   "name": "python",
   "nbconvert_exporter": "python",
   "pygments_lexer": "ipython3",
   "version": "3.8.5"
  }
 },
 "nbformat": 4,
 "nbformat_minor": 4
}
